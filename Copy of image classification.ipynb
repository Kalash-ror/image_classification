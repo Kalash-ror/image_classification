{
 "cells": [
  {
   "cell_type": "code",
   "execution_count": 1,
   "metadata": {
    "colab": {
     "base_uri": "https://localhost:8080/"
    },
    "executionInfo": {
     "elapsed": 9818,
     "status": "ok",
     "timestamp": 1679085223001,
     "user": {
      "displayName": "Kalash Chaudhary",
      "userId": "05843184147393032407"
     },
     "user_tz": -330
    },
    "id": "mYoaU_LYa-pg",
    "outputId": "3f659c26-e9ec-4944-947a-7e6e2a1cf0c6"
   },
   "outputs": [
    {
     "name": "stdout",
     "output_type": "stream",
     "text": [
      "Collecting ipython-autotime\n",
      "  Downloading ipython_autotime-0.3.1-py2.py3-none-any.whl (6.8 kB)\n",
      "Requirement already satisfied: ipython in c:\\users\\kalas\\anaconda3\\lib\\site-packages (from ipython-autotime) (7.31.1)\n",
      "Requirement already satisfied: matplotlib-inline in c:\\users\\kalas\\anaconda3\\lib\\site-packages (from ipython->ipython-autotime) (0.1.6)\n",
      "Requirement already satisfied: colorama in c:\\users\\kalas\\anaconda3\\lib\\site-packages (from ipython->ipython-autotime) (0.4.5)\n",
      "Requirement already satisfied: jedi>=0.16 in c:\\users\\kalas\\anaconda3\\lib\\site-packages (from ipython->ipython-autotime) (0.18.1)\n",
      "Requirement already satisfied: setuptools>=18.5 in c:\\users\\kalas\\anaconda3\\lib\\site-packages (from ipython->ipython-autotime) (63.4.1)\n",
      "Requirement already satisfied: traitlets>=4.2 in c:\\users\\kalas\\anaconda3\\lib\\site-packages (from ipython->ipython-autotime) (5.1.1)\n",
      "Requirement already satisfied: backcall in c:\\users\\kalas\\anaconda3\\lib\\site-packages (from ipython->ipython-autotime) (0.2.0)\n",
      "Requirement already satisfied: pickleshare in c:\\users\\kalas\\anaconda3\\lib\\site-packages (from ipython->ipython-autotime) (0.7.5)\n",
      "Requirement already satisfied: decorator in c:\\users\\kalas\\anaconda3\\lib\\site-packages (from ipython->ipython-autotime) (5.1.1)\n",
      "Requirement already satisfied: pygments in c:\\users\\kalas\\anaconda3\\lib\\site-packages (from ipython->ipython-autotime) (2.11.2)\n",
      "Requirement already satisfied: prompt-toolkit!=3.0.0,!=3.0.1,<3.1.0,>=2.0.0 in c:\\users\\kalas\\anaconda3\\lib\\site-packages (from ipython->ipython-autotime) (3.0.20)\n",
      "Requirement already satisfied: parso<0.9.0,>=0.8.0 in c:\\users\\kalas\\anaconda3\\lib\\site-packages (from jedi>=0.16->ipython->ipython-autotime) (0.8.3)\n",
      "Requirement already satisfied: wcwidth in c:\\users\\kalas\\anaconda3\\lib\\site-packages (from prompt-toolkit!=3.0.0,!=3.0.1,<3.1.0,>=2.0.0->ipython->ipython-autotime) (0.2.5)\n",
      "Installing collected packages: ipython-autotime\n",
      "Successfully installed ipython-autotime-0.3.1\n",
      "time: 0 ns (started: 2023-03-18 02:26:44 +05:30)\n"
     ]
    }
   ],
   "source": [
    "!pip install ipython-autotime\n",
    "%load_ext autotime"
   ]
  },
  {
   "cell_type": "code",
   "execution_count": 2,
   "metadata": {
    "colab": {
     "base_uri": "https://localhost:8080/"
    },
    "executionInfo": {
     "elapsed": 8644,
     "status": "ok",
     "timestamp": 1679085231640,
     "user": {
      "displayName": "Kalash Chaudhary",
      "userId": "05843184147393032407"
     },
     "user_tz": -330
    },
    "id": "lc3QdraIQYcd",
    "outputId": "b0470da0-4948-4c43-bb11-6bed7ce08bdc"
   },
   "outputs": [
    {
     "name": "stdout",
     "output_type": "stream",
     "text": [
      "Collecting bing-image-downloader\n",
      "  Downloading bing_image_downloader-1.1.2-py3-none-any.whl (5.9 kB)\n",
      "Installing collected packages: bing-image-downloader\n",
      "Successfully installed bing-image-downloader-1.1.2\n",
      "time: 4.09 s (started: 2023-03-18 02:26:44 +05:30)\n"
     ]
    }
   ],
   "source": [
    "!pip install bing-image-downloader "
   ]
  },
  {
   "cell_type": "code",
   "execution_count": 3,
   "metadata": {
    "colab": {
     "base_uri": "https://localhost:8080/"
    },
    "executionInfo": {
     "elapsed": 7,
     "status": "ok",
     "timestamp": 1679085231640,
     "user": {
      "displayName": "Kalash Chaudhary",
      "userId": "05843184147393032407"
     },
     "user_tz": -330
    },
    "id": "mu6heeBXVRqG",
    "outputId": "e4dc6194-75f5-41dd-a8dd-3a5ae7b32aae"
   },
   "outputs": [
    {
     "name": "stdout",
     "output_type": "stream",
     "text": [
      "time: 32 ms (started: 2023-03-18 02:26:48 +05:30)\n"
     ]
    }
   ],
   "source": [
    "!mkdir images"
   ]
  },
  {
   "cell_type": "code",
   "execution_count": 4,
   "metadata": {
    "colab": {
     "base_uri": "https://localhost:8080/"
    },
    "executionInfo": {
     "elapsed": 12317,
     "status": "ok",
     "timestamp": 1679085243953,
     "user": {
      "displayName": "Kalash Chaudhary",
      "userId": "05843184147393032407"
     },
     "user_tz": -330
    },
    "id": "I7S68VmyVcqF",
    "outputId": "a2daa3c0-7e95-4f74-99cc-9b231c7a0e18"
   },
   "outputs": [
    {
     "name": "stdout",
     "output_type": "stream",
     "text": [
      "[%] Downloading Images to C:\\Users\\kalas\\images\\ merecedes car\n",
      "\n",
      "\n",
      "[!!]Indexing page: 1\n",
      "\n",
      "[%] Indexed 30 Images on Page 1.\n",
      "\n",
      "===============================================\n",
      "\n",
      "[%] Downloading Image #1 from https://www.hdwallpapers.in/download/brown_mercedes_benz_e_350_l_exclusive_line_2020_4k_5k_hd_cars-HD.jpg\n",
      "[%] File Downloaded !\n",
      "\n",
      "[%] Downloading Image #2 from http://2.bp.blogspot.com/-ZvkgV8lVhfI/TZbxYY5RLLI/AAAAAAAAABA/8Z5Q3eGwCsg/s1600/Luxury+of+Mercedes+Benz+Car6.jpg\n",
      "[%] File Downloaded !\n",
      "\n",
      "[%] Downloading Image #3 from https://s3.caradvice.com.au/wp-content/uploads/2015/11/2016_mercedes-amg_sl65_06.jpg\n",
      "[%] File Downloaded !\n",
      "\n",
      "[%] Downloading Image #4 from https://lh3.googleusercontent.com/proxy/T-vLd-7Sbw56siVsmy4H2ZW7bJSpVLuGhYSv-IFqAjYk21-HKnjgiAEf0_bRyxvAOPB9jhNWbGVj3bhwEEj1eZ4X4BajnZtR4WPGilvv-XafKwSGw0hgMYnWUAOBMLjJxFoRmucrn-7n9ISJKcgmACQ=s0-d\n",
      "[!] Issue getting: https://lh3.googleusercontent.com/proxy/T-vLd-7Sbw56siVsmy4H2ZW7bJSpVLuGhYSv-IFqAjYk21-HKnjgiAEf0_bRyxvAOPB9jhNWbGVj3bhwEEj1eZ4X4BajnZtR4WPGilvv-XafKwSGw0hgMYnWUAOBMLjJxFoRmucrn-7n9ISJKcgmACQ=s0-d\n",
      "[!] Error:: HTTP Error 404: Not Found\n",
      "[%] Downloading Image #4 from https://get.pxhere.com/photo/car-wheel-vehicle-black-sports-car-license-plate-bumper-rim-sedan-coupe-mercedes-benz-land-vehicle-automobile-make-automotive-exterior-automotive-design-luxury-vehicle-executive-car-personal-luxury-car-mercedes-benz-e-class-mercedes-benz-w212-mercedes-benz-c-class-mercedes-benz-cl-class-1077120.jpg\n",
      "[%] File Downloaded !\n",
      "\n",
      "[%] Downloading Image #5 from https://cdn.motor1.com/images/mgl/ZXrOA/s1/mercedes-amg-supercar-rain-prisk.jpg\n",
      "[Error]Invalid image, not saving https://cdn.motor1.com/images/mgl/ZXrOA/s1/mercedes-amg-supercar-rain-prisk.jpg\n",
      "\n",
      "[!] Issue getting: https://cdn.motor1.com/images/mgl/ZXrOA/s1/mercedes-amg-supercar-rain-prisk.jpg\n",
      "[!] Error:: Invalid image, not saving https://cdn.motor1.com/images/mgl/ZXrOA/s1/mercedes-amg-supercar-rain-prisk.jpg\n",
      "\n",
      "[%] Downloading Image #5 from https://jooinn.com/images/vintage-mercedes-benz-5.jpg\n",
      "[%] File Downloaded !\n",
      "\n",
      "[%] Downloading Image #6 from http://www.ausringers.com/images/Mercedes-SLS-AMG-Electric-Nurburgring-01.jpg\n",
      "[%] File Downloaded !\n",
      "\n",
      "[%] Downloading Image #7 from https://worldautosales.com/wp-content/uploads/2016/04/2003-Mercedes-E500-Auto-Sales-8-2.jpg\n",
      "[%] File Downloaded !\n",
      "\n",
      "[%] Downloading Image #8 from http://www.team-bhp.com/forum/attachments/vintage-cars-classics-india/68163d1226245705-vintage-classic-mercedes-benz-cars-india-19.jpg\n",
      "[%] File Downloaded !\n",
      "\n",
      "[%] Downloading Image #9 from https://3.bp.blogspot.com/-_e-xTNGNw5A/URq6X2pqFuI/AAAAAAAAAYA/QBhh_8hlQcI/s1600/mercedes+cars+pictures+123.jpg\n",
      "[%] File Downloaded !\n",
      "\n",
      "[%] Downloading Image #10 from https://s1.ibtimes.com/sites/www.ibtimes.com/files/styles/full/public/2013/05/06/mercedes-2013-car-symposium.jpg\n",
      "[%] File Downloaded !\n",
      "\n",
      "[%] Downloading Image #11 from https://www.team-bhp.com/forum/attachments/vintage-cars-classics-india/1400138d1438805541-vintage-classic-mercedes-benz-cars-india-image.jpg\n",
      "[%] File Downloaded !\n",
      "\n",
      "[%] Downloading Image #12 from https://s3.caradvice.com.au/wp-content/uploads/2016/10/2017-Mercedes-CLA200-52.jpg\n",
      "[%] File Downloaded !\n",
      "\n",
      "[%] Downloading Image #13 from https://i.pinimg.com/originals/cc/37/da/cc37daa64f457047b82554938b0dddf9.jpg\n",
      "[%] File Downloaded !\n",
      "\n",
      "[%] Downloading Image #14 from http://3.bp.blogspot.com/-iYwC0BrICmM/TdjqVK-oNvI/AAAAAAAAALU/T4OoDOXgUe4/s1600/2011-mercedes-benz-gl-class-complete.jpg\n",
      "[%] File Downloaded !\n",
      "\n",
      "[%] Downloading Image #15 from http://2.bp.blogspot.com/-1NBacgUmKok/TkITI8sHblI/AAAAAAAADk4/dy7gs61vxt0/s1600/mers.jpg\n",
      "[%] File Downloaded !\n",
      "\n",
      "[%] Downloading Image #16 from https://www.retailhellunderground.com/.a/6a00e54f10a098883401bb080d5802970d-600wi\n",
      "[%] File Downloaded !\n",
      "\n",
      "[%] Downloading Image #17 from https://farm1.staticflickr.com/866/40378091765_6efb17f205_b.jpg\n",
      "[%] File Downloaded !\n",
      "\n",
      "[%] Downloading Image #18 from https://2.bp.blogspot.com/-Ajkad93QmBY/UlyVfCNlvoI/AAAAAAAAFYI/fc69ne_WbVQ/s1600/Mercedes+Benz+cars7.jpg\n",
      "[%] File Downloaded !\n",
      "\n",
      "[%] Downloading Image #19 from https://i2.cdn.turner.com/money/galleries/2011/autos/1104/gallery.ralph_lauren_exhibit/images/1955_mb_300sl.jpg\n",
      "[%] File Downloaded !\n",
      "\n",
      "[%] Downloading Image #20 from http://2.bp.blogspot.com/-RMxQoQeumk0/UQ52OsLluxI/AAAAAAAAAIw/IYGMEurGX2Q/s1600/mercedes-benz_e-class_amg_body_kit_01-540x405.jpg\n",
      "[%] File Downloaded !\n",
      "\n",
      "[%] Downloading Image #21 from http://3.bp.blogspot.com/-zi2Bg3EgysQ/UQ52N7-IT3I/AAAAAAAAAIc/nx8rhCNF7h0/w1200-h630-p-k-no-nu/mercedes-benz-cl-class-2008.jpg\n",
      "[%] File Downloaded !\n",
      "\n",
      "[%] Downloading Image #22 from https://img.ricardostatic.ch/t_1000x750/pl/1093515850/14/1/car-racing-merecedes-benz-plakat-rahmen.jpg\n",
      "[%] File Downloaded !\n",
      "\n",
      "[%] Downloading Image #23 from http://3.bp.blogspot.com/-eDNzmaJ46MQ/UtOVxqpj5jI/AAAAAAAAAb4/0Fo1oXJGqzc/s1600/mercedes-benz-4.jpg\n",
      "[%] File Downloaded !\n",
      "\n",
      "[%] Downloading Image #24 from http://4.bp.blogspot.com/-VBnegg_lBgs/TuN4mTxTJgI/AAAAAAAAA7o/rHNOfFPFSL8/s1600/Mercedes-Benz+CL63+AMG.jpg\n",
      "[%] File Downloaded !\n",
      "\n",
      "[%] Downloading Image #25 from https://www.punjabcarhire.com/images/spsimpleportfolio/merecedes-car/mercedes-car-hire_600x400.jpg\n",
      "[!] Issue getting: https://www.punjabcarhire.com/images/spsimpleportfolio/merecedes-car/mercedes-car-hire_600x400.jpg\n",
      "[!] Error:: HTTP Error 404: Not Found\n",
      "[%] Downloading Image #25 from http://4.bp.blogspot.com/-pppfFRbNak8/UlyVamEskRI/AAAAAAAAFXc/ZTCzsFEqkTs/s1600/Mercedes+Benz+cars2.jpg\n",
      "[%] File Downloaded !\n",
      "\n",
      "[%] Downloading Image #26 from http://www.carbodydesign.com/archive/2006/12/20-mercedes-benz-clr-600/_Mercedes-Benz-CLR-600-lg.jpg\n",
      "[!] Issue getting: http://www.carbodydesign.com/archive/2006/12/20-mercedes-benz-clr-600/_Mercedes-Benz-CLR-600-lg.jpg\n",
      "[!] Error:: Remote end closed connection without response\n",
      "[%] Downloading Image #26 from https://i.ytimg.com/vi/DjOBvjP_5bY/maxresdefault.jpg\n",
      "[%] File Downloaded !\n",
      "\n",
      "\n",
      "\n",
      "[!!]Indexing page: 2\n",
      "\n",
      "[%] Indexed 35 Images on Page 2.\n",
      "\n",
      "===============================================\n",
      "\n",
      "[%] Downloading Image #27 from http://www.classycars.org/Mercedes/mercedes-benz-bionic.concept.jpg\n",
      "[Error]Invalid image, not saving http://www.classycars.org/Mercedes/mercedes-benz-bionic.concept.jpg\n",
      "\n",
      "[!] Issue getting: http://www.classycars.org/Mercedes/mercedes-benz-bionic.concept.jpg\n",
      "[!] Error:: Invalid image, not saving http://www.classycars.org/Mercedes/mercedes-benz-bionic.concept.jpg\n",
      "\n",
      "[%] Downloading Image #27 from https://naotw-pd.s3.amazonaws.com/mercedes-benz_formulawon_aotw_aotw.jpg\n",
      "[%] File Downloaded !\n",
      "\n",
      "[%] Downloading Image #28 from http://1.bp.blogspot.com/-t0pAInWbs_s/TZbxDlPOTLI/AAAAAAAAAAs/WF89IxJH4SE/s1600/Luxury+of+Mercedes+Benz+Car1.jpg\n",
      "[%] File Downloaded !\n",
      "\n",
      "[%] Downloading Image #29 from http://1.bp.blogspot.com/_J3_liDBfbvs/S7VZzxk6YAI/AAAAAAAAk0s/pEJPQwaurt8/s1600/2011-Mercedes-Benz-R-Class-Car-Wallpaper.jpg\n",
      "[%] File Downloaded !\n",
      "\n",
      "[%] Downloading Image #30 from https://4.bp.blogspot.com/-Lz5XfehIfwQ/UKd1jrDOLlI/AAAAAAAAAgU/vV9Wsnd4mrw/s1600/Mercedes-Benz_F700_amk.jpg\n",
      "[%] File Downloaded !\n",
      "\n",
      "\n",
      "\n",
      "[%] Done. Downloaded 30 images.\n",
      "time: 1min 4s (started: 2023-03-18 02:26:48 +05:30)\n"
     ]
    }
   ],
   "source": [
    "from bing_image_downloader import downloader\n",
    "downloader.download(\" merecedes car\",limit=30,output_dir='images',adult_filter_off=True)"
   ]
  },
  {
   "cell_type": "code",
   "execution_count": 5,
   "metadata": {
    "colab": {
     "base_uri": "https://localhost:8080/"
    },
    "executionInfo": {
     "elapsed": 119259,
     "status": "ok",
     "timestamp": 1679085363203,
     "user": {
      "displayName": "Kalash Chaudhary",
      "userId": "05843184147393032407"
     },
     "user_tz": -330
    },
    "id": "Jc8E3gr0VorT",
    "outputId": "401a235a-5090-45e1-bef6-492ddcec506d"
   },
   "outputs": [
    {
     "name": "stdout",
     "output_type": "stream",
     "text": [
      "[%] Downloading Images to C:\\Users\\kalas\\images\\jeep\n",
      "\n",
      "\n",
      "[!!]Indexing page: 1\n",
      "\n",
      "[%] Indexed 30 Images on Page 1.\n",
      "\n",
      "===============================================\n",
      "\n",
      "[%] Downloading Image #1 from http://www.onallcylinders.com/wp-content/uploads/2018/03/27/Jeep-4Speed-Concept.jpg\n",
      "[%] File Downloaded !\n",
      "\n",
      "[%] Downloading Image #2 from https://www.wfyi.org/files/wfyi/articles/original/jp017-019wrgk1lj52tdbo86tt19f1bqui3p7.jpg\n",
      "[%] File Downloaded !\n",
      "\n",
      "[%] Downloading Image #3 from https://cdn.motor1.com/images/mgl/W3m8r/s1/2018-jeep-wrangler.jpg\n",
      "[Error]Invalid image, not saving https://cdn.motor1.com/images/mgl/W3m8r/s1/2018-jeep-wrangler.jpg\n",
      "\n",
      "[!] Issue getting: https://cdn.motor1.com/images/mgl/W3m8r/s1/2018-jeep-wrangler.jpg\n",
      "[!] Error:: Invalid image, not saving https://cdn.motor1.com/images/mgl/W3m8r/s1/2018-jeep-wrangler.jpg\n",
      "\n",
      "[%] Downloading Image #3 from https://www.european-motorcars.com/galleria_images/1316/1316_main_l.jpg\n",
      "[%] File Downloaded !\n",
      "\n",
      "[%] Downloading Image #4 from http://www.usedcarinindia.in/wp-content/uploads/2016/04/Jeep-Wrangler.jpg\n",
      "[%] File Downloaded !\n",
      "\n",
      "[%] Downloading Image #5 from https://thenextavenue.com/wp-content/uploads/2019/12/Overview-Gallery-01-Desktop.jpg.image_.1440.jpg\n",
      "[%] File Downloaded !\n",
      "\n",
      "[%] Downloading Image #6 from https://www.carscoops.com/wp-content/uploads/2019/12/2017-Jeep-Wrangler-Custom-.jpg\n",
      "[Error]Invalid image, not saving https://www.carscoops.com/wp-content/uploads/2019/12/2017-Jeep-Wrangler-Custom-.jpg\n",
      "\n",
      "[!] Issue getting: https://www.carscoops.com/wp-content/uploads/2019/12/2017-Jeep-Wrangler-Custom-.jpg\n",
      "[!] Error:: Invalid image, not saving https://www.carscoops.com/wp-content/uploads/2019/12/2017-Jeep-Wrangler-Custom-.jpg\n",
      "\n",
      "[%] Downloading Image #6 from https://images.unsplash.com/photo-1506015391300-4802dc74de2e?ixlib=rb-1.2.1&amp;ixid=eyJhcHBfaWQiOjEyMDd9&amp;w=1000&amp;q=80\n",
      "[%] File Downloaded !\n",
      "\n",
      "[%] Downloading Image #7 from https://s1.cdn.autoevolution.com/images/news/gallery/2018-jeep-wrangler-moab-edition_1.jpg\n",
      "[%] File Downloaded !\n",
      "\n",
      "[%] Downloading Image #8 from https://s1.cdn.autoevolution.com/images/news/jeep-finally-greenlights-wrangler-pickup-truck-as-part-of-wrangler-toledo-production-expansion-plan-99506_1.jpg\n",
      "[%] File Downloaded !\n",
      "\n",
      "[%] Downloading Image #9 from http://www.onallcylinders.com/wp-content/uploads/2018/03/27/Jeep-Jeepster-Feature-Concept.jpg\n",
      "[%] File Downloaded !\n",
      "\n",
      "[%] Downloading Image #10 from https://cashroadster.com/wp-content/uploads/2021/02/jeep-4.jpg\n",
      "[%] File Downloaded !\n",
      "\n",
      "[%] Downloading Image #11 from http://upload.wikimedia.org/wikipedia/commons/7/79/2007-Jeep-Wrangler-Unlimited.jpg\n",
      "[%] File Downloaded !\n",
      "\n",
      "[%] Downloading Image #12 from https://cimg2.ibsrv.net/ibimg/hgm/1706x960-1/100/703/jeep_100703866.jpg\n",
      "[%] File Downloaded !\n",
      "\n",
      "[%] Downloading Image #13 from http://www.thesupercars.org/wp-content/uploads/2009/08/Jeep-Grand-Cherokee.jpg\n",
      "[%] File Downloaded !\n",
      "\n",
      "[%] Downloading Image #14 from https://wallsdesk.com/wp-content/uploads/2016/12/Jeep-Background-.jpg\n",
      "[%] File Downloaded !\n",
      "\n",
      "[%] Downloading Image #15 from https://1.bp.blogspot.com/-IFUf7mtZfyo/V0xwMuJJiII/AAAAAAAAlv4/ruHwLW0tvHoRU-WllcfPMVND5tZA2hZwACLcB/s1600/Jeep1.jpg\n",
      "[%] File Downloaded !\n",
      "\n",
      "[%] Downloading Image #16 from http://momentcar.com/images/jeep-5.jpg\n",
      "[%] File Downloaded !\n",
      "\n",
      "[%] Downloading Image #17 from http://thenewswheel.com/wp-content/uploads/2013/10/2013-Jeep-Wrangler-10th-Anniversary-Rubicon.jpg\n",
      "[%] File Downloaded !\n",
      "\n",
      "[%] Downloading Image #18 from http://upload.wikimedia.org/wikipedia/commons/f/f2/Willys_jeep.jpg\n",
      "[%] File Downloaded !\n",
      "\n",
      "[%] Downloading Image #19 from http://rogerelsantos.files.wordpress.com/2010/07/jeep_final.jpg\n",
      "[Error]Invalid image, not saving http://rogerelsantos.files.wordpress.com/2010/07/jeep_final.jpg\n",
      "\n",
      "[!] Issue getting: http://rogerelsantos.files.wordpress.com/2010/07/jeep_final.jpg\n",
      "[!] Error:: Invalid image, not saving http://rogerelsantos.files.wordpress.com/2010/07/jeep_final.jpg\n",
      "\n",
      "[%] Downloading Image #19 from http://canim.net/araba/images/Jeep_Wrangler_105_1024x768.jpg\n",
      "[!] Issue getting: http://canim.net/araba/images/Jeep_Wrangler_105_1024x768.jpg\n",
      "[!] Error:: HTTP Error 404: Not Found\n",
      "[%] Downloading Image #19 from http://tenwheel.com/imgs/a/a/z/j/z/1958_jeep_willys_cj5_5_lgw.jpg\n",
      "[%] File Downloaded !\n",
      "\n",
      "[%] Downloading Image #20 from https://www.trksp.com/wp-content/uploads/2015/06/jeep.jpg\n",
      "[%] File Downloaded !\n",
      "\n",
      "[%] Downloading Image #21 from http://blog.jeep.com/wp-content/uploads/2012/09/1955-CJ5-frnt-rt.jpg\n",
      "[Error]Invalid image, not saving http://blog.jeep.com/wp-content/uploads/2012/09/1955-CJ5-frnt-rt.jpg\n",
      "\n",
      "[!] Issue getting: http://blog.jeep.com/wp-content/uploads/2012/09/1955-CJ5-frnt-rt.jpg\n",
      "[!] Error:: Invalid image, not saving http://blog.jeep.com/wp-content/uploads/2012/09/1955-CJ5-frnt-rt.jpg\n",
      "\n",
      "[%] Downloading Image #21 from https://95octane.com/wp-content/uploads/2017/12/2018_jeep_wrangler_rubicon_1.jpg\n",
      "[%] File Downloaded !\n",
      "\n",
      "[%] Downloading Image #22 from http://media-cache-ec0.pinimg.com/736x/a9/44/92/a94492a66cdce3328820d04fc2edc196.jpg\n",
      "[%] File Downloaded !\n",
      "\n",
      "[%] Downloading Image #23 from https://jeepusa.files.wordpress.com/2012/05/aev-jeep-wrangler-hemi.jpg\n",
      "[Error]Invalid image, not saving https://jeepusa.files.wordpress.com/2012/05/aev-jeep-wrangler-hemi.jpg\n",
      "\n",
      "[!] Issue getting: https://jeepusa.files.wordpress.com/2012/05/aev-jeep-wrangler-hemi.jpg\n",
      "[!] Error:: Invalid image, not saving https://jeepusa.files.wordpress.com/2012/05/aev-jeep-wrangler-hemi.jpg\n",
      "\n",
      "[%] Downloading Image #23 from https://silodrome.com/wp-content/uploads/2015/03/Willys-Jeep-7.jpg\n",
      "[%] File Downloaded !\n",
      "\n",
      "[%] Downloading Image #24 from http://img.netcarshow.com/Jeep-Hurricane_Concept_2005_1600x1200_wallpaper_03.jpg\n",
      "[%] File Downloaded !\n",
      "\n",
      "\n",
      "\n",
      "[!!]Indexing page: 2\n",
      "\n",
      "[%] Indexed 35 Images on Page 2.\n",
      "\n",
      "===============================================\n",
      "\n",
      "[%] Downloading Image #25 from https://i.pinimg.com/originals/76/44/84/7644845b4a2f6cc480a809329a5ead6b.jpg\n",
      "[%] File Downloaded !\n",
      "\n",
      "[%] Downloading Image #26 from http://upload.wikimedia.org/wikipedia/commons/b/b8/Jeep-Commander.JPG\n",
      "[%] File Downloaded !\n",
      "\n",
      "[%] Downloading Image #27 from https://i.redd.it/1xv9oztkpnh01.jpg\n",
      "[%] File Downloaded !\n",
      "\n",
      "[%] Downloading Image #28 from http://www.cartype.com/pics/7005/full/jeep_wrangler_unlimited_4_09.jpg\n",
      "[%] File Downloaded !\n",
      "\n",
      "[%] Downloading Image #29 from http://upload.wikimedia.org/wikipedia/commons/8/81/1992_Jeep_YJ.JPG\n",
      "[%] File Downloaded !\n",
      "\n",
      "\n",
      "\n",
      "[!!]Indexing page: 3\n",
      "\n",
      "[%] Indexed 30 Images on Page 3.\n",
      "\n",
      "===============================================\n",
      "\n",
      "\n",
      "\n",
      "[!!]Indexing page: 4\n",
      "\n",
      "[%] Indexed 30 Images on Page 4.\n",
      "\n",
      "===============================================\n",
      "\n",
      "\n",
      "\n",
      "[!!]Indexing page: 5\n",
      "\n",
      "[%] Indexed 30 Images on Page 5.\n",
      "\n",
      "===============================================\n",
      "\n",
      "\n",
      "\n",
      "[!!]Indexing page: 6\n",
      "\n",
      "[%] Indexed 30 Images on Page 6.\n",
      "\n",
      "===============================================\n",
      "\n",
      "\n",
      "\n",
      "[!!]Indexing page: 7\n",
      "\n",
      "[%] Indexed 30 Images on Page 7.\n",
      "\n",
      "===============================================\n",
      "\n",
      "\n",
      "\n",
      "[!!]Indexing page: 8\n",
      "\n",
      "[%] Indexed 30 Images on Page 8.\n",
      "\n",
      "===============================================\n",
      "\n",
      "[%] Downloading Image #30 from http://www.jeepbrakes.com/wp-content/uploads/2010/09/jeep-wrangler-2011.jpg\n",
      "[%] File Downloaded !\n",
      "\n",
      "\n",
      "\n",
      "[%] Done. Downloaded 30 images.\n",
      "time: 2min 12s (started: 2023-03-18 02:27:53 +05:30)\n"
     ]
    }
   ],
   "source": [
    "\n",
    "downloader.download(\"jeep\",limit=30,output_dir='images',adult_filter_off=True)"
   ]
  },
  {
   "cell_type": "code",
   "execution_count": 6,
   "metadata": {
    "colab": {
     "base_uri": "https://localhost:8080/"
    },
    "executionInfo": {
     "elapsed": 54685,
     "status": "ok",
     "timestamp": 1679085417879,
     "user": {
      "displayName": "Kalash Chaudhary",
      "userId": "05843184147393032407"
     },
     "user_tz": -330
    },
    "id": "jDxQnpASaBGm",
    "outputId": "f9834a31-6317-42d8-b311-cf2f57869a24"
   },
   "outputs": [
    {
     "name": "stdout",
     "output_type": "stream",
     "text": [
      "[%] Downloading Images to C:\\Users\\kalas\\images\\ racing bikes\n",
      "\n",
      "\n",
      "[!!]Indexing page: 1\n",
      "\n",
      "[%] Indexed 30 Images on Page 1.\n",
      "\n",
      "===============================================\n",
      "\n",
      "[%] Downloading Image #1 from http://www.visordown.com/sites/default/files/field/image/84635.jpg\n",
      "[%] File Downloaded !\n",
      "\n",
      "[%] Downloading Image #2 from https://www.visordown.com/sites/default/files/article-images/8/84633.jpg\n",
      "[%] File Downloaded !\n",
      "\n",
      "[%] Downloading Image #3 from https://wallpapercave.com/wp/wp2174301.jpg\n",
      "[%] File Downloaded !\n",
      "\n",
      "[%] Downloading Image #4 from http://4.bp.blogspot.com/-T7z1v2uyJCk/Uu4N1eVNzeI/AAAAAAAAAU8/J_kPtTurcEk/s1600/motoczysz_racing_bike-normal.jpg\n",
      "[%] File Downloaded !\n",
      "\n",
      "[%] Downloading Image #5 from https://s3-eu-west-1.amazonaws.com/crash.net/visordown.com/article-images/8/84637.jpg\n",
      "[%] File Downloaded !\n",
      "\n",
      "[%] Downloading Image #6 from https://www.visordown.com/sites/default/files/article-images/8/84639.jpg\n",
      "[%] File Downloaded !\n",
      "\n",
      "[%] Downloading Image #7 from http://www.visordown.com/sites/default/files/article-images/8/84631.jpg\n",
      "[%] File Downloaded !\n",
      "\n",
      "[%] Downloading Image #8 from https://wallpapercave.com/wp/wp2167561.jpg\n",
      "[%] File Downloaded !\n",
      "\n",
      "[%] Downloading Image #9 from https://2.bp.blogspot.com/-HkJXRgcTM_8/UwqxSakDKKI/AAAAAAAABws/8BTc1pn2wMg/s1600/Bike+Wallpapers+(21).jpg\n",
      "[%] File Downloaded !\n",
      "\n",
      "[%] Downloading Image #10 from https://www.visordown.com/sites/default/files/article-images/8/84636.jpg\n",
      "[%] File Downloaded !\n",
      "\n",
      "[%] Downloading Image #11 from http://ecx.images-amazon.com/images/I/81XfDlW2yRL._SL1500_.jpg\n",
      "[%] File Downloaded !\n",
      "\n",
      "[%] Downloading Image #12 from https://racingbikes.org/wp-content/uploads/2018/09/57-12.jpg\n",
      "[%] File Downloaded !\n",
      "\n",
      "[%] Downloading Image #13 from https://www.mtb-mag.com/wp-content/uploads/2015/03/AR_NZ_55a0463.jpg\n",
      "[%] File Downloaded !\n",
      "\n",
      "[%] Downloading Image #14 from https://4.bp.blogspot.com/-gP1AT6XqTSE/Uwq01z9bpZI/AAAAAAAABxw/Scc5VWHJA5g/s1600/Bike+Wallpapers+(30).jpg\n",
      "[%] File Downloaded !\n",
      "\n",
      "[%] Downloading Image #15 from https://4.bp.blogspot.com/_saYf5Wi_cek/S9dr24zHaGI/AAAAAAAAAqc/XpxdZjFwjzs/s1600/AtalaRecordProDoneFullSideRight.jpg\n",
      "[%] File Downloaded !\n",
      "\n",
      "[%] Downloading Image #16 from http://www.thundereagles.com/Photo_gallery3/var/albums/motorcycles/super_fast_suzuki_racing_bikes__33__1311101967.jpg?m=1348553320\n",
      "[%] File Downloaded !\n",
      "\n",
      "[%] Downloading Image #17 from https://visordown.com/sites/default/files/article-images/8/84640.jpg\n",
      "[%] File Downloaded !\n",
      "\n",
      "[%] Downloading Image #18 from https://www.asphaltandrubber.com/wp-content/uploads/2015/05/Victory-Motorcycles-Isle-of-Man-TT-Zero-Brammo-Empulse-RR-01-1270x953.jpg\n",
      "[%] File Downloaded !\n",
      "\n",
      "[%] Downloading Image #19 from https://www.ducati.ms/forums/attachments/photography/111836d1338875860-post-your-bike-racing-pictures-here-_gp11216.jpg\n",
      "[!] Issue getting: https://www.ducati.ms/forums/attachments/photography/111836d1338875860-post-your-bike-racing-pictures-here-_gp11216.jpg\n",
      "[!] Error:: HTTP Error 403: Forbidden\n",
      "[%] Downloading Image #19 from http://2.bp.blogspot.com/-F43ojZBj2Ds/TqFe0cyph5I/AAAAAAAAEgM/xGoBTSDc310/s1600/Aprilia-RSVR-1000-Racing-Bike-3-D9ZG72RSMR-1024x768.jpg\n",
      "[%] File Downloaded !\n",
      "\n",
      "[%] Downloading Image #20 from https://s3-eu-west-1.amazonaws.com/crash.net/visordown.com/article-images/8/84638.jpg\n",
      "[%] File Downloaded !\n",
      "\n",
      "[%] Downloading Image #21 from https://www.visordown.com/sites/default/files/article-images/8/84632.jpg\n",
      "[%] File Downloaded !\n",
      "\n",
      "[%] Downloading Image #22 from http://kickstart.bikeexif.com/wp-content/uploads/2019/06/bmw-race-bike-r1250rs.jpg\n",
      "[%] File Downloaded !\n",
      "\n",
      "[%] Downloading Image #23 from http://2.bp.blogspot.com/-3pLjSm5H5P8/UlgWCRDm7EI/AAAAAAAAA2k/90l1AT9doP8/s1600/Bajaj-KTM-Duke-200.jpg\n",
      "[%] File Downloaded !\n",
      "\n",
      "[%] Downloading Image #24 from http://1.bp.blogspot.com/-h7tlM6twXRE/UdspMCtfNVI/AAAAAAAACSI/Z2Nm0VeUyvE/s1600/bmw-s-1000-rr-race-bike.jpg\n",
      "[%] File Downloaded !\n",
      "\n",
      "[%] Downloading Image #25 from https://image.made-in-china.com/2f0j00TnuaNSetAwgs/700c-Carbon-Fiber-Frame-Racing-Bike-Men-Road-Bike.jpg\n",
      "[%] File Downloaded !\n",
      "\n",
      "[%] Downloading Image #26 from http://images.mcn.bauercdn.com/PageFiles/613272/Norton-Race-Bike.jpg\n",
      "[!] Issue getting: http://images.mcn.bauercdn.com/PageFiles/613272/Norton-Race-Bike.jpg\n",
      "[!] Error:: HTTP Error 403: Forbidden\n",
      "[%] Downloading Image #26 from http://1.bp.blogspot.com/--6yBsgRuDaU/TXm28ycC_5I/AAAAAAAAHGE/4WfXArLFXRE/s1600/Rizla%2BSuzuki%2BGSV-R%2BRace%2BBike.jpg\n",
      "[%] File Downloaded !\n",
      "\n",
      "[%] Downloading Image #27 from https://s3-eu-west-1.amazonaws.com/motorsport-magazine/wp-content/uploads/2018/03/04111455/motogpspeed.jpg\n",
      "[%] File Downloaded !\n",
      "\n",
      "[%] Downloading Image #28 from http://1.bp.blogspot.com/-GGO-b2V-fnU/TnAeBbuq9rI/AAAAAAAAAJo/f3RJhLErkPY/s1600/yamaha+racing+bikes+Wallpapers+1.jpg\n",
      "[%] File Downloaded !\n",
      "\n",
      "\n",
      "\n",
      "[!!]Indexing page: 2\n",
      "\n",
      "[%] Indexed 35 Images on Page 2.\n",
      "\n",
      "===============================================\n",
      "\n",
      "[%] Downloading Image #29 from https://racingbikes.org/wp-content/uploads/2020/02/57-6.jpg\n",
      "[%] File Downloaded !\n",
      "\n",
      "[%] Downloading Image #30 from https://1.bp.blogspot.com/-i1DPoOjV5Hw/UdspEyPgF_I/AAAAAAAACRw/ntR_DTAoTlo/s1600/dt-racing-sports-bikes-sport-bike-green-cell-phone.jpg\n",
      "[%] File Downloaded !\n",
      "\n",
      "\n",
      "\n",
      "[%] Done. Downloaded 30 images.\n",
      "time: 1min 21s (started: 2023-03-18 02:30:06 +05:30)\n"
     ]
    }
   ],
   "source": [
    "\n",
    "downloader.download(\" racing bikes\",limit=30,output_dir='images',adult_filter_off=True)"
   ]
  },
  {
   "cell_type": "code",
   "execution_count": 10,
   "metadata": {
    "colab": {
     "base_uri": "https://localhost:8080/",
     "height": 270
    },
    "executionInfo": {
     "elapsed": 615,
     "status": "error",
     "timestamp": 1679085739520,
     "user": {
      "displayName": "Kalash Chaudhary",
      "userId": "05843184147393032407"
     },
     "user_tz": -330
    },
    "id": "EDfgEm25a7xd",
    "outputId": "97f5da47-a6b4-4a42-e9c3-0934cff682cc"
   },
   "outputs": [
    {
     "ename": "SyntaxError",
     "evalue": "(unicode error) 'unicodeescape' codec can't decode bytes in position 2-3: truncated \\UXXXXXXXX escape (2178050397.py, line 13)",
     "output_type": "error",
     "traceback": [
      "\u001b[1;36m  File \u001b[1;32m\"C:\\Users\\kalas\\AppData\\Local\\Temp\\ipykernel_13768\\2178050397.py\"\u001b[1;36m, line \u001b[1;32m13\u001b[0m\n\u001b[1;33m    DATADIR= 'C:\\Users\\kalas\\images'\u001b[0m\n\u001b[1;37m                                    ^\u001b[0m\n\u001b[1;31mSyntaxError\u001b[0m\u001b[1;31m:\u001b[0m (unicode error) 'unicodeescape' codec can't decode bytes in position 2-3: truncated \\UXXXXXXXX escape\n"
     ]
    },
    {
     "name": "stdout",
     "output_type": "stream",
     "text": [
      "time: 0 ns (started: 2023-03-18 02:35:03 +05:30)\n"
     ]
    }
   ],
   "source": [
    "# from bing_image_downloader.bing import Path\n",
    "# preprocessing \n",
    "# 1. resize\n",
    "# 2. flatten\n",
    "import os\n",
    "import matplotlib.pyplot as plt\n",
    "import numpy as np\n",
    "from skimage.io import imread\n",
    "from skimage.transform import resize\n",
    "target=[]\n",
    "images=[]\n",
    "flat_data=[]\n",
    "DATADIR= 'C:\\Users\\kalas\\images'\n",
    "CATEGORIES=['merecedes car','racing bikes', 'jeep ']\n",
    "\n",
    "for category in CATEGORIES:\n",
    "  class_num = CATEGORIES.index(category) #label encoding the values\n",
    "  path = os.path.join(DATADIR,category) #create path to use all images\n",
    "  for img in os.listdir(path):\n",
    "    img_array=imread(os.path.join(path,img))\n",
    "    #print(img_array.shape)\n",
    "    img_resized = resize(img_array,(150,150,3))  #resizing the images\n",
    "    flat_data.append(img_resized.flatten())      #flatten the images\n",
    "    images.append(img_resized)\n",
    "    target.append(img_resized)\n",
    "\n",
    "flat_data=np.array(flat_data)\n",
    "target=np.array(target)\n",
    "images=np.array(images)"
   ]
  },
  {
   "cell_type": "code",
   "execution_count": null,
   "metadata": {
    "executionInfo": {
     "elapsed": 7,
     "status": "aborted",
     "timestamp": 1679085419342,
     "user": {
      "displayName": "Kalash Chaudhary",
      "userId": "05843184147393032407"
     },
     "user_tz": -330
    },
    "id": "J1aK7zVBNLRS"
   },
   "outputs": [],
   "source": [
    "len(flat_data[0])\n"
   ]
  },
  {
   "cell_type": "code",
   "execution_count": null,
   "metadata": {
    "executionInfo": {
     "elapsed": 8,
     "status": "aborted",
     "timestamp": 1679085419343,
     "user": {
      "displayName": "Kalash Chaudhary",
      "userId": "05843184147393032407"
     },
     "user_tz": -330
    },
    "id": "NN7vWfnnPGdJ"
   },
   "outputs": [],
   "source": [
    "unique,count=np.unique(target,return_counts=True)\n",
    "plt.bar(CATEGORIES,count)"
   ]
  }
 ],
 "metadata": {
  "colab": {
   "authorship_tag": "ABX9TyOJVre0/quDIX6ixFr8+3JD",
   "mount_file_id": "1wQdT7EG3z6ZTt-6Bfy36T9QFaKC_cdXJ",
   "provenance": [
    {
     "file_id": "1wQdT7EG3z6ZTt-6Bfy36T9QFaKC_cdXJ",
     "timestamp": 1679085175755
    }
   ]
  },
  "kernelspec": {
   "display_name": "Python 3 (ipykernel)",
   "language": "python",
   "name": "python3"
  },
  "language_info": {
   "codemirror_mode": {
    "name": "ipython",
    "version": 3
   },
   "file_extension": ".py",
   "mimetype": "text/x-python",
   "name": "python",
   "nbconvert_exporter": "python",
   "pygments_lexer": "ipython3",
   "version": "3.9.13"
  }
 },
 "nbformat": 4,
 "nbformat_minor": 1
}
